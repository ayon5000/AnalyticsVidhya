{
 "cells": [
  {
   "cell_type": "code",
   "execution_count": 1,
   "metadata": {},
   "outputs": [],
   "source": [
    "from autogluon.tabular import TabularDataset, TabularPredictor"
   ]
  },
  {
   "cell_type": "code",
   "execution_count": 2,
   "metadata": {},
   "outputs": [
    {
     "name": "stderr",
     "output_type": "stream",
     "text": [
      "C:\\Users\\DELL\\Anaconda3\\envs\\machine_hack\\lib\\site-packages\\ipykernel\\ipkernel.py:287: DeprecationWarning: `should_run_async` will not call `transform_cell` automatically in the future. Please pass the result to `transformed_cell` argument and any exception that happen during thetransform in `preprocessing_exc_tuple` in IPython 7.17 and above.\n",
      "  and should_run_async(code)\n",
      "<>:1: DeprecationWarning: invalid escape sequence \\g\n",
      "<>:2: DeprecationWarning: invalid escape sequence \\g\n",
      "<>:1: DeprecationWarning: invalid escape sequence \\g\n",
      "<>:2: DeprecationWarning: invalid escape sequence \\g\n",
      "<>:1: DeprecationWarning: invalid escape sequence \\g\n",
      "<>:2: DeprecationWarning: invalid escape sequence \\g\n",
      "<ipython-input-2-338f4388ccac>:1: DeprecationWarning: invalid escape sequence \\g\n",
      "  train_data = TabularDataset('data\\gluon_train.csv')\n",
      "<ipython-input-2-338f4388ccac>:2: DeprecationWarning: invalid escape sequence \\g\n",
      "  test_data = TabularDataset('data\\gluon_test.csv')\n"
     ]
    }
   ],
   "source": [
    "train_data = TabularDataset('data\\gluon_train.csv')\n",
    "test_data = TabularDataset('data\\gluon_test.csv')\n",
    "#subsample_size = 500  # subsample subset of data for faster demo, try setting this to much larger values\n",
    "#train_data = train_data.sample(n=subsample_size, random_state=0)\n",
    "#train_data.head()"
   ]
  },
  {
   "cell_type": "code",
   "execution_count": 3,
   "metadata": {},
   "outputs": [],
   "source": [
    "label = 'Is_Lead'"
   ]
  },
  {
   "cell_type": "code",
   "execution_count": 4,
   "metadata": {},
   "outputs": [],
   "source": [
    "#save_path = 'data'  # specifies folder to store trained models\n",
    "#predictor = TabularPredictor(label=label, path=save_path).fit(train_data)"
   ]
  },
  {
   "cell_type": "code",
   "execution_count": 6,
   "metadata": {
    "scrolled": false
   },
   "outputs": [
    {
     "name": "stderr",
     "output_type": "stream",
     "text": [
      "No path specified. Models will be saved in: \"AutogluonModels/ag-20210530_105602\\\"\n",
      "Presets specified: ['best_quality']\n",
      "Beginning AutoGluon training ... Time limit = 60s\n",
      "AutoGluon will save models to \"AutogluonModels/ag-20210530_105602\\\"\n",
      "AutoGluon Version:  0.2.0\n",
      "Train Data Rows:    245725\n",
      "Train Data Columns: 13\n",
      "Preprocessing data ...\n",
      "AutoGluon infers your prediction problem is: 'binary' (because only two unique label-values observed).\n",
      "\t2 unique label values:  [0, 1]\n",
      "\tIf 'binary' is not the correct problem_type, please manually specify the problem_type argument in fit() (You may specify problem_type as one of: ['binary', 'multiclass', 'regression'])\n",
      "Selected class <--> label mapping:  class 1 = 1, class 0 = 0\n",
      "Using Feature Generators to preprocess the data ...\n",
      "Fitting AutoMLPipelineFeatureGenerator...\n",
      "\tAvailable Memory:                    3054.79 MB\n",
      "\tTrain Data (Original)  Memory Usage: 25.56 MB (0.8% of available memory)\n",
      "\tInferring data type of each feature based on column values. Set feature_metadata_in to manually specify special dtypes of the features.\n",
      "\tStage 1 Generators:\n",
      "\t\tFitting AsTypeFeatureGenerator...\n",
      "\tStage 2 Generators:\n",
      "\t\tFitting FillNaFeatureGenerator...\n",
      "\tStage 3 Generators:\n",
      "\t\tFitting IdentityFeatureGenerator...\n",
      "\tStage 4 Generators:\n",
      "\t\tFitting DropUniqueFeatureGenerator...\n",
      "\tTypes of features in original data (raw dtype, special dtypes):\n",
      "\t\t('float', []) : 5 | ['ScaledVintage', 'ScaledAgeLog', 'ScaledBalanceLog', 'ScaledAgeOverVintage', 'ScaledVintagePerc']\n",
      "\t\t('int', [])   : 8 | ['GenderEncoded', 'RegionCodeMeanEncode', 'OccupationMeanEncode', 'ChannelCodeMeanEncode', 'CreditProductEncoded', ...]\n",
      "\tTypes of features in processed data (raw dtype, special dtypes):\n",
      "\t\t('float', []) : 5 | ['ScaledVintage', 'ScaledAgeLog', 'ScaledBalanceLog', 'ScaledAgeOverVintage', 'ScaledVintagePerc']\n",
      "\t\t('int', [])   : 8 | ['GenderEncoded', 'RegionCodeMeanEncode', 'OccupationMeanEncode', 'ChannelCodeMeanEncode', 'CreditProductEncoded', ...]\n",
      "\t0.5s = Fit runtime\n",
      "\t13 features in original data used to generate 13 features in processed data.\n",
      "\tTrain Data (Processed) Memory Usage: 25.56 MB (0.8% of available memory)\n",
      "Data preprocessing and feature engineering runtime = 0.7s ...\n",
      "AutoGluon will gauge predictive performance using evaluation metric: 'roc_auc'\n",
      "\tThis metric expects predicted probabilities rather than predicted class labels, so you'll need to use predict_proba() instead of predict()\n",
      "\tTo change this, specify the eval_metric argument of fit()\n",
      "Fitting model: KNeighborsUnif_BAG_L1 ... Training model for up to 39.52s of the 59.29s of remaining time.\n",
      "\tNot enough time to generate out-of-fold predictions for model. Estimated time required was 75.0s compared to 38.56s of available time.\n",
      "\tTime limit exceeded... Skipping KNeighborsUnif_BAG_L1.\n",
      "Fitting model: KNeighborsDist_BAG_L1 ... Training model for up to 26.52s of the 46.29s of remaining time.\n",
      "\tNot enough time to generate out-of-fold predictions for model. Estimated time required was 52.45s compared to 21.35s of available time.\n",
      "\tTime limit exceeded... Skipping KNeighborsDist_BAG_L1.\n",
      "Fitting model: LightGBMXT_BAG_L1 ... Training model for up to 13.26s of the 33.03s of remaining time.\n",
      "\tRan out of time, early stopping on iteration 25. Best iteration is:\n",
      "\t[25]\ttrain_set's binary_logloss: 0.368132\tvalid_set's binary_logloss: 0.370879\n",
      "\tRan out of time, early stopping on iteration 27. Best iteration is:\n",
      "\t[27]\ttrain_set's binary_logloss: 0.364825\tvalid_set's binary_logloss: 0.365496\n",
      "\tRan out of time, early stopping on iteration 28. Best iteration is:\n",
      "\t[28]\ttrain_set's binary_logloss: 0.363202\tvalid_set's binary_logloss: 0.364021\n",
      "\tRan out of time, early stopping on iteration 30. Best iteration is:\n",
      "\t[30]\ttrain_set's binary_logloss: 0.360557\tvalid_set's binary_logloss: 0.36\n",
      "\tRan out of time, early stopping on iteration 29. Best iteration is:\n",
      "\t[29]\ttrain_set's binary_logloss: 0.361246\tvalid_set's binary_logloss: 0.365925\n",
      "\tRan out of time, early stopping on iteration 32. Best iteration is:\n",
      "\t[32]\ttrain_set's binary_logloss: 0.357848\tvalid_set's binary_logloss: 0.358983\n",
      "\tRan out of time, early stopping on iteration 25. Best iteration is:\n",
      "\t[25]\ttrain_set's binary_logloss: 0.36786\tvalid_set's binary_logloss: 0.37196\n",
      "\tRan out of time, early stopping on iteration 35. Best iteration is:\n",
      "\t[35]\ttrain_set's binary_logloss: 0.355663\tvalid_set's binary_logloss: 0.350223\n",
      "\tRan out of time, early stopping on iteration 38. Best iteration is:\n",
      "\t[38]\ttrain_set's binary_logloss: 0.35342\tvalid_set's binary_logloss: 0.346397\n",
      "\tRan out of time, early stopping on iteration 45. Best iteration is:\n",
      "\t[45]\ttrain_set's binary_logloss: 0.34846\tvalid_set's binary_logloss: 0.35104\n",
      "\t0.8711\t = Validation roc_auc score\n",
      "\t12.36s\t = Training runtime\n",
      "\t0.39s\t = Validation runtime\n",
      "Fitting model: LightGBM_BAG_L1 ... Training model for up to 0.08s of the 19.85s of remaining time.\n",
      "\tRan out of time, early stopping on iteration 1. Best iteration is:\n",
      "\t[1]\ttrain_set's binary_logloss: 0.527418\tvalid_set's binary_logloss: 0.527756\n",
      "\tTime limit exceeded... Skipping LightGBM_BAG_L1.\n",
      "Completed 1/20 k-fold bagging repeats ...\n",
      "Fitting model: WeightedEnsemble_L2 ... Training model for up to 59.29s of the 19.25s of remaining time.\n",
      "\t0.8711\t = Validation roc_auc score\n",
      "\t0.12s\t = Training runtime\n",
      "\t0.08s\t = Validation runtime\n",
      "Fitting model: KNeighborsUnif_BAG_L2 ... Training model for up to 19.03s of the 19.02s of remaining time.\n",
      "\tNot enough time to train KNN model on all training rows. Fit 160000/245725 rows. (Training KNN model on 245725 rows is expected to take 19.88s)\n",
      "\tNot enough time to generate out-of-fold predictions for model. Estimated time required was 58.31s compared to 20.84s of available time.\n",
      "\tTime limit exceeded... Skipping KNeighborsUnif_BAG_L2.\n",
      "Fitting model: KNeighborsDist_BAG_L2 ... Training model for up to 14.98s of the 14.97s of remaining time.\n",
      "\tNot enough time to train KNN model on all training rows. Fit 160000/245725 rows. (Training KNN model on 245725 rows is expected to take 21.22s)\n",
      "\tNot enough time to generate out-of-fold predictions for model. Estimated time required was 56.36s compared to 15.44s of available time.\n",
      "\tTime limit exceeded... Skipping KNeighborsDist_BAG_L2.\n",
      "Fitting model: LightGBMXT_BAG_L2 ... Training model for up to 10.79s of the 10.78s of remaining time.\n",
      "\tRan out of time, early stopping on iteration 16. Best iteration is:\n",
      "\t[16]\ttrain_set's binary_logloss: 0.392784\tvalid_set's binary_logloss: 0.391274\n",
      "\tRan out of time, early stopping on iteration 13. Best iteration is:\n",
      "\t[13]\ttrain_set's binary_logloss: 0.406093\tvalid_set's binary_logloss: 0.408214\n",
      "\tRan out of time, early stopping on iteration 12. Best iteration is:\n",
      "\t[12]\ttrain_set's binary_logloss: 0.411607\tvalid_set's binary_logloss: 0.413809\n",
      "\tRan out of time, early stopping on iteration 15. Best iteration is:\n",
      "\t[15]\ttrain_set's binary_logloss: 0.396924\tvalid_set's binary_logloss: 0.39644\n",
      "\tRan out of time, early stopping on iteration 19. Best iteration is:\n",
      "\t[19]\ttrain_set's binary_logloss: 0.381707\tvalid_set's binary_logloss: 0.384107\n",
      "\tRan out of time, early stopping on iteration 19. Best iteration is:\n",
      "\t[19]\ttrain_set's binary_logloss: 0.382286\tvalid_set's binary_logloss: 0.379235\n",
      "\tRan out of time, early stopping on iteration 20. Best iteration is:\n",
      "\t[20]\ttrain_set's binary_logloss: 0.378926\tvalid_set's binary_logloss: 0.379421\n",
      "\tRan out of time, early stopping on iteration 21. Best iteration is:\n",
      "\t[21]\ttrain_set's binary_logloss: 0.376327\tvalid_set's binary_logloss: 0.374833\n",
      "\tRan out of time, early stopping on iteration 20. Best iteration is:\n",
      "\t[20]\ttrain_set's binary_logloss: 0.378828\tvalid_set's binary_logloss: 0.379754\n",
      "\tRan out of time, early stopping on iteration 18. Best iteration is:\n",
      "\t[18]\ttrain_set's binary_logloss: 0.384841\tvalid_set's binary_logloss: 0.38801\n",
      "\t0.869\t = Validation roc_auc score\n",
      "\t9.99s\t = Training runtime\n",
      "\t0.38s\t = Validation runtime\n",
      "Fitting model: LightGBM_BAG_L2 ... Training model for up to 0.02s of the 0.0s of remaining time.\n",
      "\tTime limit exceeded... Skipping LightGBM_BAG_L2.\n",
      "Completed 1/20 k-fold bagging repeats ...\n",
      "Fitting model: WeightedEnsemble_L3 ... Training model for up to 59.3s of the -0.11s of remaining time.\n",
      "\t0.869\t = Validation roc_auc score\n",
      "\t0.1s\t = Training runtime\n"
     ]
    },
    {
     "name": "stderr",
     "output_type": "stream",
     "text": [
      "\t0.08s\t = Validation runtime\n",
      "AutoGluon training complete, total runtime = 60.35s ...\n",
      "TabularPredictor saved. To load, use: predictor = TabularPredictor.load(\"AutogluonModels/ag-20210530_105602\\\")\n"
     ]
    }
   ],
   "source": [
    "time_limit = 60  # for quick demonstration only, you should set this to longest time you are willing to wait (in seconds)\n",
    "metric = 'roc_auc'  # specify your evaluation metric here\n",
    "predictor = TabularPredictor(label, eval_metric=metric).fit(train_data, time_limit=time_limit, presets='best_quality')\n",
    "#predictor.leaderboard(test_data, silent=True)"
   ]
  },
  {
   "cell_type": "code",
   "execution_count": 7,
   "metadata": {},
   "outputs": [
    {
     "name": "stderr",
     "output_type": "stream",
     "text": [
      "C:\\Users\\DELL\\Anaconda3\\envs\\machine_hack\\lib\\site-packages\\ipykernel\\ipkernel.py:287: DeprecationWarning: `should_run_async` will not call `transform_cell` automatically in the future. Please pass the result to `transformed_cell` argument and any exception that happen during thetransform in `preprocessing_exc_tuple` in IPython 7.17 and above.\n",
      "  and should_run_async(code)\n"
     ]
    }
   ],
   "source": [
    "predictor = TabularPredictor.load(path=\"AutogluonModels\\\\ag-20210530_105602\\\\\")"
   ]
  },
  {
   "cell_type": "code",
   "execution_count": 8,
   "metadata": {
    "scrolled": false
   },
   "outputs": [
    {
     "name": "stdout",
     "output_type": "stream",
     "text": [
      "                      model  score_val  pred_time_val    fit_time  pred_time_val_marginal  fit_time_marginal  stack_level  can_infer  fit_order\n",
      "0       WeightedEnsemble_L3   0.874574      63.026371  381.461123                0.093710          21.356903            3       True         14\n",
      "1         LightGBMXT_BAG_L2   0.874564      62.155739  326.739431                0.895621          47.343412            2       True         12\n",
      "2           LightGBM_BAG_L2   0.874541      62.037040  312.760807                0.776922          33.364789            2       True         13\n",
      "3       WeightedEnsemble_L2   0.874409      32.789356  347.384274                0.098748         104.696124            2       True         11\n",
      "4         LightGBMXT_BAG_L1   0.874233       1.050191   40.873707                1.050191          40.873707            1       True          3\n",
      "5           LightGBM_BAG_L1   0.874233       1.401253   39.192210                1.401253          39.192210            1       True          4\n",
      "6           CatBoost_BAG_L1   0.873720       0.168544  109.287823                0.168544         109.287823            1       True          7\n",
      "7      LightGBMLarge_BAG_L1   0.872007       0.469746   16.104900                0.469746          16.104900            1       True         10\n",
      "8   RandomForestEntr_BAG_L1   0.847301       3.350041   18.089636                3.350041          18.089636            1       True          6\n",
      "9   RandomForestGini_BAG_L1   0.846785       3.376869   15.592309                3.376869          15.592309            1       True          5\n",
      "10    ExtraTreesGini_BAG_L1   0.841880       2.496350    6.171547                2.496350           6.171547            1       True          8\n",
      "11    ExtraTreesEntr_BAG_L1   0.839558       2.351709    5.980028                2.351709           5.980028            1       True          9\n",
      "12    KNeighborsUnif_BAG_L1   0.818580      23.754482   12.968328               23.754482          12.968328            1       True          1\n",
      "13    KNeighborsDist_BAG_L1   0.817436      22.840933   15.135531               22.840933          15.135531            1       True          2\n"
     ]
    },
    {
     "data": {
      "text/html": [
       "<div>\n",
       "<style scoped>\n",
       "    .dataframe tbody tr th:only-of-type {\n",
       "        vertical-align: middle;\n",
       "    }\n",
       "\n",
       "    .dataframe tbody tr th {\n",
       "        vertical-align: top;\n",
       "    }\n",
       "\n",
       "    .dataframe thead th {\n",
       "        text-align: right;\n",
       "    }\n",
       "</style>\n",
       "<table border=\"1\" class=\"dataframe\">\n",
       "  <thead>\n",
       "    <tr style=\"text-align: right;\">\n",
       "      <th></th>\n",
       "      <th>model</th>\n",
       "      <th>score_val</th>\n",
       "      <th>pred_time_val</th>\n",
       "      <th>fit_time</th>\n",
       "      <th>pred_time_val_marginal</th>\n",
       "      <th>fit_time_marginal</th>\n",
       "      <th>stack_level</th>\n",
       "      <th>can_infer</th>\n",
       "      <th>fit_order</th>\n",
       "    </tr>\n",
       "  </thead>\n",
       "  <tbody>\n",
       "    <tr>\n",
       "      <th>0</th>\n",
       "      <td>WeightedEnsemble_L3</td>\n",
       "      <td>0.874574</td>\n",
       "      <td>63.026371</td>\n",
       "      <td>381.461123</td>\n",
       "      <td>0.093710</td>\n",
       "      <td>21.356903</td>\n",
       "      <td>3</td>\n",
       "      <td>True</td>\n",
       "      <td>14</td>\n",
       "    </tr>\n",
       "    <tr>\n",
       "      <th>1</th>\n",
       "      <td>LightGBMXT_BAG_L2</td>\n",
       "      <td>0.874564</td>\n",
       "      <td>62.155739</td>\n",
       "      <td>326.739431</td>\n",
       "      <td>0.895621</td>\n",
       "      <td>47.343412</td>\n",
       "      <td>2</td>\n",
       "      <td>True</td>\n",
       "      <td>12</td>\n",
       "    </tr>\n",
       "    <tr>\n",
       "      <th>2</th>\n",
       "      <td>LightGBM_BAG_L2</td>\n",
       "      <td>0.874541</td>\n",
       "      <td>62.037040</td>\n",
       "      <td>312.760807</td>\n",
       "      <td>0.776922</td>\n",
       "      <td>33.364789</td>\n",
       "      <td>2</td>\n",
       "      <td>True</td>\n",
       "      <td>13</td>\n",
       "    </tr>\n",
       "    <tr>\n",
       "      <th>3</th>\n",
       "      <td>WeightedEnsemble_L2</td>\n",
       "      <td>0.874409</td>\n",
       "      <td>32.789356</td>\n",
       "      <td>347.384274</td>\n",
       "      <td>0.098748</td>\n",
       "      <td>104.696124</td>\n",
       "      <td>2</td>\n",
       "      <td>True</td>\n",
       "      <td>11</td>\n",
       "    </tr>\n",
       "    <tr>\n",
       "      <th>4</th>\n",
       "      <td>LightGBMXT_BAG_L1</td>\n",
       "      <td>0.874233</td>\n",
       "      <td>1.050191</td>\n",
       "      <td>40.873707</td>\n",
       "      <td>1.050191</td>\n",
       "      <td>40.873707</td>\n",
       "      <td>1</td>\n",
       "      <td>True</td>\n",
       "      <td>3</td>\n",
       "    </tr>\n",
       "    <tr>\n",
       "      <th>5</th>\n",
       "      <td>LightGBM_BAG_L1</td>\n",
       "      <td>0.874233</td>\n",
       "      <td>1.401253</td>\n",
       "      <td>39.192210</td>\n",
       "      <td>1.401253</td>\n",
       "      <td>39.192210</td>\n",
       "      <td>1</td>\n",
       "      <td>True</td>\n",
       "      <td>4</td>\n",
       "    </tr>\n",
       "    <tr>\n",
       "      <th>6</th>\n",
       "      <td>CatBoost_BAG_L1</td>\n",
       "      <td>0.873720</td>\n",
       "      <td>0.168544</td>\n",
       "      <td>109.287823</td>\n",
       "      <td>0.168544</td>\n",
       "      <td>109.287823</td>\n",
       "      <td>1</td>\n",
       "      <td>True</td>\n",
       "      <td>7</td>\n",
       "    </tr>\n",
       "    <tr>\n",
       "      <th>7</th>\n",
       "      <td>LightGBMLarge_BAG_L1</td>\n",
       "      <td>0.872007</td>\n",
       "      <td>0.469746</td>\n",
       "      <td>16.104900</td>\n",
       "      <td>0.469746</td>\n",
       "      <td>16.104900</td>\n",
       "      <td>1</td>\n",
       "      <td>True</td>\n",
       "      <td>10</td>\n",
       "    </tr>\n",
       "    <tr>\n",
       "      <th>8</th>\n",
       "      <td>RandomForestEntr_BAG_L1</td>\n",
       "      <td>0.847301</td>\n",
       "      <td>3.350041</td>\n",
       "      <td>18.089636</td>\n",
       "      <td>3.350041</td>\n",
       "      <td>18.089636</td>\n",
       "      <td>1</td>\n",
       "      <td>True</td>\n",
       "      <td>6</td>\n",
       "    </tr>\n",
       "    <tr>\n",
       "      <th>9</th>\n",
       "      <td>RandomForestGini_BAG_L1</td>\n",
       "      <td>0.846785</td>\n",
       "      <td>3.376869</td>\n",
       "      <td>15.592309</td>\n",
       "      <td>3.376869</td>\n",
       "      <td>15.592309</td>\n",
       "      <td>1</td>\n",
       "      <td>True</td>\n",
       "      <td>5</td>\n",
       "    </tr>\n",
       "    <tr>\n",
       "      <th>10</th>\n",
       "      <td>ExtraTreesGini_BAG_L1</td>\n",
       "      <td>0.841880</td>\n",
       "      <td>2.496350</td>\n",
       "      <td>6.171547</td>\n",
       "      <td>2.496350</td>\n",
       "      <td>6.171547</td>\n",
       "      <td>1</td>\n",
       "      <td>True</td>\n",
       "      <td>8</td>\n",
       "    </tr>\n",
       "    <tr>\n",
       "      <th>11</th>\n",
       "      <td>ExtraTreesEntr_BAG_L1</td>\n",
       "      <td>0.839558</td>\n",
       "      <td>2.351709</td>\n",
       "      <td>5.980028</td>\n",
       "      <td>2.351709</td>\n",
       "      <td>5.980028</td>\n",
       "      <td>1</td>\n",
       "      <td>True</td>\n",
       "      <td>9</td>\n",
       "    </tr>\n",
       "    <tr>\n",
       "      <th>12</th>\n",
       "      <td>KNeighborsUnif_BAG_L1</td>\n",
       "      <td>0.818580</td>\n",
       "      <td>23.754482</td>\n",
       "      <td>12.968328</td>\n",
       "      <td>23.754482</td>\n",
       "      <td>12.968328</td>\n",
       "      <td>1</td>\n",
       "      <td>True</td>\n",
       "      <td>1</td>\n",
       "    </tr>\n",
       "    <tr>\n",
       "      <th>13</th>\n",
       "      <td>KNeighborsDist_BAG_L1</td>\n",
       "      <td>0.817436</td>\n",
       "      <td>22.840933</td>\n",
       "      <td>15.135531</td>\n",
       "      <td>22.840933</td>\n",
       "      <td>15.135531</td>\n",
       "      <td>1</td>\n",
       "      <td>True</td>\n",
       "      <td>2</td>\n",
       "    </tr>\n",
       "  </tbody>\n",
       "</table>\n",
       "</div>"
      ],
      "text/plain": [
       "                      model  score_val  pred_time_val    fit_time  \\\n",
       "0       WeightedEnsemble_L3   0.874574      63.026371  381.461123   \n",
       "1         LightGBMXT_BAG_L2   0.874564      62.155739  326.739431   \n",
       "2           LightGBM_BAG_L2   0.874541      62.037040  312.760807   \n",
       "3       WeightedEnsemble_L2   0.874409      32.789356  347.384274   \n",
       "4         LightGBMXT_BAG_L1   0.874233       1.050191   40.873707   \n",
       "5           LightGBM_BAG_L1   0.874233       1.401253   39.192210   \n",
       "6           CatBoost_BAG_L1   0.873720       0.168544  109.287823   \n",
       "7      LightGBMLarge_BAG_L1   0.872007       0.469746   16.104900   \n",
       "8   RandomForestEntr_BAG_L1   0.847301       3.350041   18.089636   \n",
       "9   RandomForestGini_BAG_L1   0.846785       3.376869   15.592309   \n",
       "10    ExtraTreesGini_BAG_L1   0.841880       2.496350    6.171547   \n",
       "11    ExtraTreesEntr_BAG_L1   0.839558       2.351709    5.980028   \n",
       "12    KNeighborsUnif_BAG_L1   0.818580      23.754482   12.968328   \n",
       "13    KNeighborsDist_BAG_L1   0.817436      22.840933   15.135531   \n",
       "\n",
       "    pred_time_val_marginal  fit_time_marginal  stack_level  can_infer  \\\n",
       "0                 0.093710          21.356903            3       True   \n",
       "1                 0.895621          47.343412            2       True   \n",
       "2                 0.776922          33.364789            2       True   \n",
       "3                 0.098748         104.696124            2       True   \n",
       "4                 1.050191          40.873707            1       True   \n",
       "5                 1.401253          39.192210            1       True   \n",
       "6                 0.168544         109.287823            1       True   \n",
       "7                 0.469746          16.104900            1       True   \n",
       "8                 3.350041          18.089636            1       True   \n",
       "9                 3.376869          15.592309            1       True   \n",
       "10                2.496350           6.171547            1       True   \n",
       "11                2.351709           5.980028            1       True   \n",
       "12               23.754482          12.968328            1       True   \n",
       "13               22.840933          15.135531            1       True   \n",
       "\n",
       "    fit_order  \n",
       "0          14  \n",
       "1          12  \n",
       "2          13  \n",
       "3          11  \n",
       "4           3  \n",
       "5           4  \n",
       "6           7  \n",
       "7          10  \n",
       "8           6  \n",
       "9           5  \n",
       "10          8  \n",
       "11          9  \n",
       "12          1  \n",
       "13          2  "
      ]
     },
     "execution_count": 8,
     "metadata": {},
     "output_type": "execute_result"
    }
   ],
   "source": [
    "predictor.leaderboard()"
   ]
  },
  {
   "cell_type": "code",
   "execution_count": 9,
   "metadata": {},
   "outputs": [
    {
     "name": "stderr",
     "output_type": "stream",
     "text": [
      "C:\\Users\\DELL\\Anaconda3\\envs\\machine_hack\\lib\\site-packages\\ipykernel\\ipkernel.py:287: DeprecationWarning: `should_run_async` will not call `transform_cell` automatically in the future. Please pass the result to `transformed_cell` argument and any exception that happen during thetransform in `preprocessing_exc_tuple` in IPython 7.17 and above.\n",
      "  and should_run_async(code)\n"
     ]
    }
   ],
   "source": [
    "y_pred = predictor.predict_proba(test_data)"
   ]
  },
  {
   "cell_type": "code",
   "execution_count": 10,
   "metadata": {},
   "outputs": [
    {
     "name": "stderr",
     "output_type": "stream",
     "text": [
      "C:\\Users\\DELL\\Anaconda3\\envs\\machine_hack\\lib\\site-packages\\ipykernel\\ipkernel.py:287: DeprecationWarning: `should_run_async` will not call `transform_cell` automatically in the future. Please pass the result to `transformed_cell` argument and any exception that happen during thetransform in `preprocessing_exc_tuple` in IPython 7.17 and above.\n",
      "  and should_run_async(code)\n"
     ]
    },
    {
     "data": {
      "text/plain": [
       "array([0.04913117, 0.86059809, 0.05396556, ..., 0.0844321 , 0.23183395,\n",
       "       0.05162917])"
      ]
     },
     "execution_count": 10,
     "metadata": {},
     "output_type": "execute_result"
    }
   ],
   "source": [
    "y_pred[1].values"
   ]
  },
  {
   "cell_type": "code",
   "execution_count": 11,
   "metadata": {},
   "outputs": [
    {
     "name": "stderr",
     "output_type": "stream",
     "text": [
      "E:\\AIMLA\\AnalyticsVidhya\\JobAThonMay2021\\utils.py:12: DeprecationWarning: invalid escape sequence \\{\n",
      "  df_data = pd.read_csv(f'{config.DATASET_FOLDER}\\{name}.csv')\n",
      "E:\\AIMLA\\AnalyticsVidhya\\JobAThonMay2021\\utils.py:16: DeprecationWarning: invalid escape sequence \\{\n",
      "  df_data.to_csv(f'{config.DATASET_FOLDER}\\{name}.csv',index=False)\n"
     ]
    }
   ],
   "source": [
    "from utils import load_dataset, save_dataset"
   ]
  },
  {
   "cell_type": "code",
   "execution_count": 12,
   "metadata": {},
   "outputs": [],
   "source": [
    "df_test = load_dataset('test')"
   ]
  },
  {
   "cell_type": "code",
   "execution_count": 13,
   "metadata": {},
   "outputs": [],
   "source": [
    "df_test['Is_Lead'] = y_pred[1]"
   ]
  },
  {
   "cell_type": "code",
   "execution_count": 14,
   "metadata": {},
   "outputs": [],
   "source": [
    "save_dataset(df_test[['ID','Is_Lead']],name='GluonPredictionsFinal')"
   ]
  }
 ],
 "metadata": {
  "kernelspec": {
   "display_name": "Python 3",
   "language": "python",
   "name": "python3"
  },
  "language_info": {
   "codemirror_mode": {
    "name": "ipython",
    "version": 3
   },
   "file_extension": ".py",
   "mimetype": "text/x-python",
   "name": "python",
   "nbconvert_exporter": "python",
   "pygments_lexer": "ipython3",
   "version": "3.7.7"
  }
 },
 "nbformat": 4,
 "nbformat_minor": 4
}
