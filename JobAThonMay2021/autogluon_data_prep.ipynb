{
 "cells": [
  {
   "cell_type": "code",
   "execution_count": 1,
   "metadata": {},
   "outputs": [],
   "source": [
    "#!conda install seaborn --yes\n"
   ]
  },
  {
   "cell_type": "code",
   "execution_count": 2,
   "metadata": {},
   "outputs": [],
   "source": [
    "import pandas as pd\n",
    "import numpy as np\n",
    "import matplotlib.pyplot as plt\n",
    "import seaborn as sns"
   ]
  },
  {
   "cell_type": "code",
   "execution_count": 3,
   "metadata": {},
   "outputs": [],
   "source": [
    "import re\n",
    "from datetime import timedelta\n",
    "from sklearn.preprocessing import LabelEncoder\n",
    "from sklearn.metrics import log_loss, accuracy_score, roc_auc_score"
   ]
  },
  {
   "cell_type": "code",
   "execution_count": 4,
   "metadata": {},
   "outputs": [],
   "source": [
    "from sklearn.ensemble import GradientBoostingClassifier, RandomForestClassifier, AdaBoostClassifier, ExtraTreesClassifier\n",
    "from sklearn.neighbors import KNeighborsClassifier\n",
    "from sklearn.tree import DecisionTreeClassifier, ExtraTreeClassifier\n",
    "from sklearn.linear_model import LogisticRegression\n",
    "from sklearn.neural_network import MLPClassifier\n",
    "from sklearn.svm import SVC\n",
    "from xgboost import XGBClassifier, plot_importance\n",
    "from lightgbm import LGBMClassifier"
   ]
  },
  {
   "cell_type": "code",
   "execution_count": 5,
   "metadata": {},
   "outputs": [],
   "source": [
    "pd.set_option('display.max_columns',None)"
   ]
  },
  {
   "cell_type": "code",
   "execution_count": 6,
   "metadata": {},
   "outputs": [],
   "source": [
    "from utils import (load_dataset, save_dataset)"
   ]
  },
  {
   "cell_type": "code",
   "execution_count": 7,
   "metadata": {},
   "outputs": [],
   "source": [
    "from sklearn.preprocessing import StandardScaler, MinMaxScaler, RobustScaler"
   ]
  },
  {
   "cell_type": "code",
   "execution_count": 8,
   "metadata": {},
   "outputs": [],
   "source": [
    "df_train = load_dataset('train')\n",
    "df_test = load_dataset('test')"
   ]
  },
  {
   "cell_type": "code",
   "execution_count": 9,
   "metadata": {},
   "outputs": [
    {
     "data": {
      "text/plain": [
       "Index(['ID', 'Gender', 'Age', 'Region_Code', 'Occupation', 'Channel_Code',\n",
       "       'Vintage', 'Credit_Product', 'Avg_Account_Balance', 'Is_Active',\n",
       "       'Is_Lead'],\n",
       "      dtype='object')"
      ]
     },
     "execution_count": 9,
     "metadata": {},
     "output_type": "execute_result"
    }
   ],
   "source": [
    "df_train.columns"
   ]
  },
  {
   "cell_type": "code",
   "execution_count": 10,
   "metadata": {},
   "outputs": [
    {
     "name": "stdout",
     "output_type": "stream",
     "text": [
      "<class 'pandas.core.frame.DataFrame'>\n",
      "RangeIndex: 245725 entries, 0 to 245724\n",
      "Data columns (total 11 columns):\n",
      " #   Column               Non-Null Count   Dtype \n",
      "---  ------               --------------   ----- \n",
      " 0   ID                   245725 non-null  object\n",
      " 1   Gender               245725 non-null  object\n",
      " 2   Age                  245725 non-null  int64 \n",
      " 3   Region_Code          245725 non-null  object\n",
      " 4   Occupation           245725 non-null  object\n",
      " 5   Channel_Code         245725 non-null  object\n",
      " 6   Vintage              245725 non-null  int64 \n",
      " 7   Credit_Product       216400 non-null  object\n",
      " 8   Avg_Account_Balance  245725 non-null  int64 \n",
      " 9   Is_Active            245725 non-null  object\n",
      " 10  Is_Lead              245725 non-null  int64 \n",
      "dtypes: int64(4), object(7)\n",
      "memory usage: 20.6+ MB\n"
     ]
    }
   ],
   "source": [
    "df_train.info()"
   ]
  },
  {
   "cell_type": "code",
   "execution_count": 11,
   "metadata": {},
   "outputs": [
    {
     "name": "stdout",
     "output_type": "stream",
     "text": [
      "<class 'pandas.core.frame.DataFrame'>\n",
      "RangeIndex: 105312 entries, 0 to 105311\n",
      "Data columns (total 10 columns):\n",
      " #   Column               Non-Null Count   Dtype \n",
      "---  ------               --------------   ----- \n",
      " 0   ID                   105312 non-null  object\n",
      " 1   Gender               105312 non-null  object\n",
      " 2   Age                  105312 non-null  int64 \n",
      " 3   Region_Code          105312 non-null  object\n",
      " 4   Occupation           105312 non-null  object\n",
      " 5   Channel_Code         105312 non-null  object\n",
      " 6   Vintage              105312 non-null  int64 \n",
      " 7   Credit_Product       92790 non-null   object\n",
      " 8   Avg_Account_Balance  105312 non-null  int64 \n",
      " 9   Is_Active            105312 non-null  object\n",
      "dtypes: int64(3), object(7)\n",
      "memory usage: 8.0+ MB\n"
     ]
    }
   ],
   "source": [
    "df_test.info()"
   ]
  },
  {
   "cell_type": "code",
   "execution_count": 12,
   "metadata": {},
   "outputs": [
    {
     "data": {
      "text/plain": [
       "ID                         0\n",
       "Gender                     0\n",
       "Age                        0\n",
       "Region_Code                0\n",
       "Occupation                 0\n",
       "Channel_Code               0\n",
       "Vintage                    0\n",
       "Credit_Product         29325\n",
       "Avg_Account_Balance        0\n",
       "Is_Active                  0\n",
       "Is_Lead                    0\n",
       "dtype: int64"
      ]
     },
     "execution_count": 12,
     "metadata": {},
     "output_type": "execute_result"
    }
   ],
   "source": [
    "df_train.isnull().sum()"
   ]
  },
  {
   "cell_type": "code",
   "execution_count": 13,
   "metadata": {},
   "outputs": [
    {
     "data": {
      "text/plain": [
       "ID                         0\n",
       "Gender                     0\n",
       "Age                        0\n",
       "Region_Code                0\n",
       "Occupation                 0\n",
       "Channel_Code               0\n",
       "Vintage                    0\n",
       "Credit_Product         12522\n",
       "Avg_Account_Balance        0\n",
       "Is_Active                  0\n",
       "dtype: int64"
      ]
     },
     "execution_count": 13,
     "metadata": {},
     "output_type": "execute_result"
    }
   ],
   "source": [
    "df_test.isnull().sum()"
   ]
  },
  {
   "cell_type": "code",
   "execution_count": 14,
   "metadata": {},
   "outputs": [],
   "source": [
    "df_test['Is_Lead'] = -1\n",
    "df_full = pd.concat([df_train,df_test],axis=0,ignore_index=True)"
   ]
  },
  {
   "cell_type": "code",
   "execution_count": 15,
   "metadata": {},
   "outputs": [
    {
     "data": {
      "text/plain": [
       "ID                         0\n",
       "Gender                     0\n",
       "Age                        0\n",
       "Region_Code                0\n",
       "Occupation                 0\n",
       "Channel_Code               0\n",
       "Vintage                    0\n",
       "Credit_Product         41847\n",
       "Avg_Account_Balance        0\n",
       "Is_Active                  0\n",
       "Is_Lead                    0\n",
       "dtype: int64"
      ]
     },
     "execution_count": 15,
     "metadata": {},
     "output_type": "execute_result"
    }
   ],
   "source": [
    "df_full.isnull().sum()"
   ]
  },
  {
   "cell_type": "code",
   "execution_count": 16,
   "metadata": {},
   "outputs": [],
   "source": [
    "def get_label_mean_encode_maps(df_inp,df_train_inp,colname,label):\n",
    "    df = df_inp.copy()\n",
    "    df_tr = df_train_inp.copy()\n",
    "    \n",
    "    srs = pd.DataFrame(df[colname].value_counts().sort_values(ascending=False))\n",
    "    srs[colname+'LabelEncode'] = [x for x in range(1,len(srs)+1)]\n",
    "    label_encode_dict = srs[colname+'LabelEncode'].to_dict()\n",
    "    srs = pd.DataFrame(df_tr.groupby(colname)[label].mean().sort_values(ascending=True))\n",
    "    srs[colname+'MeanEncode'] = [x for x in range(1,len(srs)+1)]\n",
    "    mean_encode_dict = srs[colname+'MeanEncode'].to_dict()\n",
    "    \n",
    "    return label_encode_dict, mean_encode_dict"
   ]
  },
  {
   "cell_type": "code",
   "execution_count": 17,
   "metadata": {},
   "outputs": [],
   "source": [
    "def feature_engineering_one(df_inp,df_train_inp):\n",
    "    \n",
    "    df = df_inp.copy()\n",
    "    df_tr = df_train_inp.copy()\n",
    "    \n",
    "    df['GenderEncoded'] = np.where(df['Gender']=='Male',1,0)\n",
    "    df['AgeLog'] = np.log(df['Age'])\n",
    "    \n",
    "    #srs = pd.DataFrame(df['Region_Code'].value_counts().sort_values(ascending=False))\n",
    "    #srs['RegionCodeLabelEncode'] = [x for x in range(1,len(srs)+1)]\n",
    "    #label_encode_dict = srs['RegionCodeLabelEncode'].to_dict()\n",
    "    #mean_encode_dict = df_tr.groupby('Region_Code')['Is_Lead'].mean().sort_values(ascending=False).to_dict()\n",
    "    \n",
    "    label_encode_dict, mean_encode_dict = get_label_mean_encode_maps(df_inp,df_train_inp,'Region_Code','Is_Lead')\n",
    "    \n",
    "    df['RegionCodeLabelEncode'] = df['Region_Code'].map(label_encode_dict)\n",
    "    df['RegionCodeMeanEncode'] = df['Region_Code'].map(mean_encode_dict)\n",
    "    \n",
    "    label_encode_dict, mean_encode_dict = get_label_mean_encode_maps(df_inp,df_train_inp,'Occupation','Is_Lead')\n",
    "    \n",
    "    df['OccupationLabelEncode'] = df['Occupation'].map(label_encode_dict)\n",
    "    df['OccupationMeanEncode'] = df['Occupation'].map(mean_encode_dict)\n",
    "    \n",
    "    label_encode_dict, mean_encode_dict = get_label_mean_encode_maps(df_inp,df_train_inp,'Channel_Code','Is_Lead')\n",
    "    \n",
    "    df['ChannelCodeLabelEncode'] = df['Channel_Code'].map(label_encode_dict)\n",
    "    df['ChannelCodeMeanEncode'] = df['Channel_Code'].map(mean_encode_dict)\n",
    "    \n",
    "    df['Credit_Product'] = np.where(df['Credit_Product'].isnull(),'Missing',df['Credit_Product'])\n",
    "    df_tr['Credit_Product'] = np.where(df_tr['Credit_Product'].isnull(),'Missing',df_tr['Credit_Product'])\n",
    "    label_encode_dict = {\"Missing\":3,\"Yes\":2,\"No\":1}\n",
    "    df['CreditProductEncoded'] = df['Credit_Product'].map(label_encode_dict)\n",
    "    \n",
    "    df['BalanceLog'] = np.log(df['Avg_Account_Balance'])\n",
    "    \n",
    "    \n",
    "    df['ActiveEncoded'] = np.where(df['Is_Active']=='Yes',1,0)\n",
    "    \n",
    "    return df"
   ]
  },
  {
   "cell_type": "code",
   "execution_count": 18,
   "metadata": {},
   "outputs": [],
   "source": [
    "def feature_engineering_two(df_inp,df_train_inp):\n",
    "    \n",
    "    df = df_inp.copy()\n",
    "    df_tr = df_train_inp.copy()\n",
    "    \n",
    "    df['Entrepreneur'] = np.where(df['Occupation']=='Entrepreneur',1,0)\n",
    "    \n",
    "    df['AgeOverVintage'] = df['Age'] - df['Vintage']\n",
    "    df['VintagePerc'] = df['AgeOverVintage']/df['Age']\n",
    "    \n",
    "    condition = df['Credit_Product'].isin(['Yes','Missing'])\n",
    "    condition_ = df['Is_Active'] == 'Yes'\n",
    "    df['ActiveAndCredit'] = np.where(condition & condition_,1,0)\n",
    "    \n",
    "    \n",
    "    return df"
   ]
  },
  {
   "cell_type": "code",
   "execution_count": 19,
   "metadata": {},
   "outputs": [],
   "source": [
    "def scale_features(df_inp,features_to_scale,scaler_type='std'):\n",
    "    \n",
    "    df = df_inp.copy()\n",
    "    \n",
    "    scaler = StandardScaler()\n",
    "    if scaler_type == 'min_max':\n",
    "        scaler = MinMaxScaler()\n",
    "    elif scaler_type == 'robust':\n",
    "        scaler = RobustScaler()\n",
    "        \n",
    "    scaler = StandardScaler()\n",
    "    df_scaled = pd.DataFrame(scaler.fit_transform(df[features_to_scale]),columns = ['Scaled'+x for x in features_to_scale])\n",
    "    df_final_data = pd.concat([df,df_scaled],axis=1)\n",
    "    \n",
    "    return df_final_data"
   ]
  },
  {
   "cell_type": "code",
   "execution_count": 20,
   "metadata": {},
   "outputs": [],
   "source": [
    "features_to_scale = [\n",
    "    'Age', \n",
    "    'Vintage',\n",
    "    'AgeLog',\n",
    "    'Avg_Account_Balance',\n",
    "    'BalanceLog',\n",
    "    'AgeOverVintage', \n",
    "    'VintagePerc'\n",
    "]"
   ]
  },
  {
   "cell_type": "code",
   "execution_count": 21,
   "metadata": {},
   "outputs": [],
   "source": [
    "df_process = feature_engineering_one(df_full,df_train)\n",
    "df_process = feature_engineering_two(df_process,df_train)\n",
    "df_scaled = scale_features(df_process,features_to_scale)"
   ]
  },
  {
   "cell_type": "code",
   "execution_count": 22,
   "metadata": {},
   "outputs": [
    {
     "data": {
      "text/html": [
       "<div>\n",
       "<style scoped>\n",
       "    .dataframe tbody tr th:only-of-type {\n",
       "        vertical-align: middle;\n",
       "    }\n",
       "\n",
       "    .dataframe tbody tr th {\n",
       "        vertical-align: top;\n",
       "    }\n",
       "\n",
       "    .dataframe thead th {\n",
       "        text-align: right;\n",
       "    }\n",
       "</style>\n",
       "<table border=\"1\" class=\"dataframe\">\n",
       "  <thead>\n",
       "    <tr style=\"text-align: right;\">\n",
       "      <th></th>\n",
       "      <th>ID</th>\n",
       "      <th>Gender</th>\n",
       "      <th>Age</th>\n",
       "      <th>Region_Code</th>\n",
       "      <th>Occupation</th>\n",
       "      <th>Channel_Code</th>\n",
       "      <th>Vintage</th>\n",
       "      <th>Credit_Product</th>\n",
       "      <th>Avg_Account_Balance</th>\n",
       "      <th>Is_Active</th>\n",
       "      <th>Is_Lead</th>\n",
       "      <th>GenderEncoded</th>\n",
       "      <th>AgeLog</th>\n",
       "      <th>RegionCodeLabelEncode</th>\n",
       "      <th>RegionCodeMeanEncode</th>\n",
       "      <th>OccupationLabelEncode</th>\n",
       "      <th>OccupationMeanEncode</th>\n",
       "      <th>ChannelCodeLabelEncode</th>\n",
       "      <th>ChannelCodeMeanEncode</th>\n",
       "      <th>CreditProductEncoded</th>\n",
       "      <th>BalanceLog</th>\n",
       "      <th>ActiveEncoded</th>\n",
       "      <th>Entrepreneur</th>\n",
       "      <th>AgeOverVintage</th>\n",
       "      <th>VintagePerc</th>\n",
       "      <th>ActiveAndCredit</th>\n",
       "      <th>ScaledAge</th>\n",
       "      <th>ScaledVintage</th>\n",
       "      <th>ScaledAgeLog</th>\n",
       "      <th>ScaledAvg_Account_Balance</th>\n",
       "      <th>ScaledBalanceLog</th>\n",
       "      <th>ScaledAgeOverVintage</th>\n",
       "      <th>ScaledVintagePerc</th>\n",
       "    </tr>\n",
       "  </thead>\n",
       "  <tbody>\n",
       "    <tr>\n",
       "      <th>0</th>\n",
       "      <td>NNVBBKZB</td>\n",
       "      <td>Female</td>\n",
       "      <td>73</td>\n",
       "      <td>RG268</td>\n",
       "      <td>Other</td>\n",
       "      <td>X3</td>\n",
       "      <td>43</td>\n",
       "      <td>No</td>\n",
       "      <td>1045696</td>\n",
       "      <td>No</td>\n",
       "      <td>0</td>\n",
       "      <td>0</td>\n",
       "      <td>4.290459</td>\n",
       "      <td>1</td>\n",
       "      <td>33</td>\n",
       "      <td>3</td>\n",
       "      <td>2</td>\n",
       "      <td>2</td>\n",
       "      <td>4</td>\n",
       "      <td>1</td>\n",
       "      <td>13.860193</td>\n",
       "      <td>0</td>\n",
       "      <td>0</td>\n",
       "      <td>30</td>\n",
       "      <td>0.410959</td>\n",
       "      <td>0</td>\n",
       "      <td>1.963311</td>\n",
       "      <td>-0.121384</td>\n",
       "      <td>1.696878</td>\n",
       "      <td>-0.098541</td>\n",
       "      <td>0.202963</td>\n",
       "      <td>1.284795</td>\n",
       "      <td>0.821363</td>\n",
       "    </tr>\n",
       "    <tr>\n",
       "      <th>1</th>\n",
       "      <td>IDD62UNG</td>\n",
       "      <td>Female</td>\n",
       "      <td>30</td>\n",
       "      <td>RG277</td>\n",
       "      <td>Salaried</td>\n",
       "      <td>X1</td>\n",
       "      <td>32</td>\n",
       "      <td>No</td>\n",
       "      <td>581988</td>\n",
       "      <td>No</td>\n",
       "      <td>0</td>\n",
       "      <td>0</td>\n",
       "      <td>3.401197</td>\n",
       "      <td>5</td>\n",
       "      <td>25</td>\n",
       "      <td>2</td>\n",
       "      <td>1</td>\n",
       "      <td>1</td>\n",
       "      <td>1</td>\n",
       "      <td>1</td>\n",
       "      <td>13.274205</td>\n",
       "      <td>0</td>\n",
       "      <td>0</td>\n",
       "      <td>-2</td>\n",
       "      <td>-0.066667</td>\n",
       "      <td>0</td>\n",
       "      <td>-0.933890</td>\n",
       "      <td>-0.461633</td>\n",
       "      <td>-0.972819</td>\n",
       "      <td>-0.639654</td>\n",
       "      <td>-0.741453</td>\n",
       "      <td>0.041327</td>\n",
       "      <td>-0.088859</td>\n",
       "    </tr>\n",
       "    <tr>\n",
       "      <th>2</th>\n",
       "      <td>HD3DSEMC</td>\n",
       "      <td>Female</td>\n",
       "      <td>56</td>\n",
       "      <td>RG268</td>\n",
       "      <td>Self_Employed</td>\n",
       "      <td>X3</td>\n",
       "      <td>26</td>\n",
       "      <td>No</td>\n",
       "      <td>1484315</td>\n",
       "      <td>Yes</td>\n",
       "      <td>0</td>\n",
       "      <td>0</td>\n",
       "      <td>4.025352</td>\n",
       "      <td>1</td>\n",
       "      <td>33</td>\n",
       "      <td>1</td>\n",
       "      <td>3</td>\n",
       "      <td>2</td>\n",
       "      <td>4</td>\n",
       "      <td>1</td>\n",
       "      <td>14.210464</td>\n",
       "      <td>1</td>\n",
       "      <td>0</td>\n",
       "      <td>30</td>\n",
       "      <td>0.535714</td>\n",
       "      <td>0</td>\n",
       "      <td>0.817906</td>\n",
       "      <td>-0.647223</td>\n",
       "      <td>0.900985</td>\n",
       "      <td>0.413296</td>\n",
       "      <td>0.767482</td>\n",
       "      <td>1.284795</td>\n",
       "      <td>1.059113</td>\n",
       "    </tr>\n",
       "    <tr>\n",
       "      <th>3</th>\n",
       "      <td>BF3NC7KV</td>\n",
       "      <td>Male</td>\n",
       "      <td>34</td>\n",
       "      <td>RG270</td>\n",
       "      <td>Salaried</td>\n",
       "      <td>X1</td>\n",
       "      <td>19</td>\n",
       "      <td>No</td>\n",
       "      <td>470454</td>\n",
       "      <td>No</td>\n",
       "      <td>0</td>\n",
       "      <td>1</td>\n",
       "      <td>3.526361</td>\n",
       "      <td>7</td>\n",
       "      <td>5</td>\n",
       "      <td>2</td>\n",
       "      <td>1</td>\n",
       "      <td>1</td>\n",
       "      <td>1</td>\n",
       "      <td>1</td>\n",
       "      <td>13.061453</td>\n",
       "      <td>0</td>\n",
       "      <td>0</td>\n",
       "      <td>15</td>\n",
       "      <td>0.441176</td>\n",
       "      <td>0</td>\n",
       "      <td>-0.664383</td>\n",
       "      <td>-0.863745</td>\n",
       "      <td>-0.597061</td>\n",
       "      <td>-0.769806</td>\n",
       "      <td>-1.084337</td>\n",
       "      <td>0.701919</td>\n",
       "      <td>0.878950</td>\n",
       "    </tr>\n",
       "    <tr>\n",
       "      <th>4</th>\n",
       "      <td>TEASRWXV</td>\n",
       "      <td>Female</td>\n",
       "      <td>30</td>\n",
       "      <td>RG282</td>\n",
       "      <td>Salaried</td>\n",
       "      <td>X1</td>\n",
       "      <td>33</td>\n",
       "      <td>No</td>\n",
       "      <td>886787</td>\n",
       "      <td>No</td>\n",
       "      <td>0</td>\n",
       "      <td>0</td>\n",
       "      <td>3.401197</td>\n",
       "      <td>12</td>\n",
       "      <td>15</td>\n",
       "      <td>2</td>\n",
       "      <td>1</td>\n",
       "      <td>1</td>\n",
       "      <td>1</td>\n",
       "      <td>1</td>\n",
       "      <td>13.695360</td>\n",
       "      <td>0</td>\n",
       "      <td>0</td>\n",
       "      <td>-3</td>\n",
       "      <td>-0.100000</td>\n",
       "      <td>0</td>\n",
       "      <td>-0.933890</td>\n",
       "      <td>-0.430701</td>\n",
       "      <td>-0.972819</td>\n",
       "      <td>-0.283976</td>\n",
       "      <td>-0.062692</td>\n",
       "      <td>0.002469</td>\n",
       "      <td>-0.152383</td>\n",
       "    </tr>\n",
       "  </tbody>\n",
       "</table>\n",
       "</div>"
      ],
      "text/plain": [
       "         ID  Gender  Age Region_Code     Occupation Channel_Code  Vintage  \\\n",
       "0  NNVBBKZB  Female   73       RG268          Other           X3       43   \n",
       "1  IDD62UNG  Female   30       RG277       Salaried           X1       32   \n",
       "2  HD3DSEMC  Female   56       RG268  Self_Employed           X3       26   \n",
       "3  BF3NC7KV    Male   34       RG270       Salaried           X1       19   \n",
       "4  TEASRWXV  Female   30       RG282       Salaried           X1       33   \n",
       "\n",
       "  Credit_Product  Avg_Account_Balance Is_Active  Is_Lead  GenderEncoded  \\\n",
       "0             No              1045696        No        0              0   \n",
       "1             No               581988        No        0              0   \n",
       "2             No              1484315       Yes        0              0   \n",
       "3             No               470454        No        0              1   \n",
       "4             No               886787        No        0              0   \n",
       "\n",
       "     AgeLog  RegionCodeLabelEncode  RegionCodeMeanEncode  \\\n",
       "0  4.290459                      1                    33   \n",
       "1  3.401197                      5                    25   \n",
       "2  4.025352                      1                    33   \n",
       "3  3.526361                      7                     5   \n",
       "4  3.401197                     12                    15   \n",
       "\n",
       "   OccupationLabelEncode  OccupationMeanEncode  ChannelCodeLabelEncode  \\\n",
       "0                      3                     2                       2   \n",
       "1                      2                     1                       1   \n",
       "2                      1                     3                       2   \n",
       "3                      2                     1                       1   \n",
       "4                      2                     1                       1   \n",
       "\n",
       "   ChannelCodeMeanEncode  CreditProductEncoded  BalanceLog  ActiveEncoded  \\\n",
       "0                      4                     1   13.860193              0   \n",
       "1                      1                     1   13.274205              0   \n",
       "2                      4                     1   14.210464              1   \n",
       "3                      1                     1   13.061453              0   \n",
       "4                      1                     1   13.695360              0   \n",
       "\n",
       "   Entrepreneur  AgeOverVintage  VintagePerc  ActiveAndCredit  ScaledAge  \\\n",
       "0             0              30     0.410959                0   1.963311   \n",
       "1             0              -2    -0.066667                0  -0.933890   \n",
       "2             0              30     0.535714                0   0.817906   \n",
       "3             0              15     0.441176                0  -0.664383   \n",
       "4             0              -3    -0.100000                0  -0.933890   \n",
       "\n",
       "   ScaledVintage  ScaledAgeLog  ScaledAvg_Account_Balance  ScaledBalanceLog  \\\n",
       "0      -0.121384      1.696878                  -0.098541          0.202963   \n",
       "1      -0.461633     -0.972819                  -0.639654         -0.741453   \n",
       "2      -0.647223      0.900985                   0.413296          0.767482   \n",
       "3      -0.863745     -0.597061                  -0.769806         -1.084337   \n",
       "4      -0.430701     -0.972819                  -0.283976         -0.062692   \n",
       "\n",
       "   ScaledAgeOverVintage  ScaledVintagePerc  \n",
       "0              1.284795           0.821363  \n",
       "1              0.041327          -0.088859  \n",
       "2              1.284795           1.059113  \n",
       "3              0.701919           0.878950  \n",
       "4              0.002469          -0.152383  "
      ]
     },
     "execution_count": 22,
     "metadata": {},
     "output_type": "execute_result"
    }
   ],
   "source": [
    "df_scaled.head()"
   ]
  },
  {
   "cell_type": "code",
   "execution_count": 23,
   "metadata": {},
   "outputs": [
    {
     "name": "stdout",
     "output_type": "stream",
     "text": [
      "<class 'pandas.core.frame.DataFrame'>\n",
      "RangeIndex: 351037 entries, 0 to 351036\n",
      "Data columns (total 33 columns):\n",
      " #   Column                     Non-Null Count   Dtype  \n",
      "---  ------                     --------------   -----  \n",
      " 0   ID                         351037 non-null  object \n",
      " 1   Gender                     351037 non-null  object \n",
      " 2   Age                        351037 non-null  int64  \n",
      " 3   Region_Code                351037 non-null  object \n",
      " 4   Occupation                 351037 non-null  object \n",
      " 5   Channel_Code               351037 non-null  object \n",
      " 6   Vintage                    351037 non-null  int64  \n",
      " 7   Credit_Product             351037 non-null  object \n",
      " 8   Avg_Account_Balance        351037 non-null  int64  \n",
      " 9   Is_Active                  351037 non-null  object \n",
      " 10  Is_Lead                    351037 non-null  int64  \n",
      " 11  GenderEncoded              351037 non-null  int32  \n",
      " 12  AgeLog                     351037 non-null  float64\n",
      " 13  RegionCodeLabelEncode      351037 non-null  int64  \n",
      " 14  RegionCodeMeanEncode       351037 non-null  int64  \n",
      " 15  OccupationLabelEncode      351037 non-null  int64  \n",
      " 16  OccupationMeanEncode       351037 non-null  int64  \n",
      " 17  ChannelCodeLabelEncode     351037 non-null  int64  \n",
      " 18  ChannelCodeMeanEncode      351037 non-null  int64  \n",
      " 19  CreditProductEncoded       351037 non-null  int64  \n",
      " 20  BalanceLog                 351037 non-null  float64\n",
      " 21  ActiveEncoded              351037 non-null  int32  \n",
      " 22  Entrepreneur               351037 non-null  int32  \n",
      " 23  AgeOverVintage             351037 non-null  int64  \n",
      " 24  VintagePerc                351037 non-null  float64\n",
      " 25  ActiveAndCredit            351037 non-null  int32  \n",
      " 26  ScaledAge                  351037 non-null  float64\n",
      " 27  ScaledVintage              351037 non-null  float64\n",
      " 28  ScaledAgeLog               351037 non-null  float64\n",
      " 29  ScaledAvg_Account_Balance  351037 non-null  float64\n",
      " 30  ScaledBalanceLog           351037 non-null  float64\n",
      " 31  ScaledAgeOverVintage       351037 non-null  float64\n",
      " 32  ScaledVintagePerc          351037 non-null  float64\n",
      "dtypes: float64(10), int32(4), int64(12), object(7)\n",
      "memory usage: 83.0+ MB\n"
     ]
    }
   ],
   "source": [
    "df_scaled.info()"
   ]
  },
  {
   "cell_type": "code",
   "execution_count": 24,
   "metadata": {},
   "outputs": [
    {
     "data": {
      "text/plain": [
       "Index(['ID', 'Gender', 'Age', 'Region_Code', 'Occupation', 'Channel_Code',\n",
       "       'Vintage', 'Credit_Product', 'Avg_Account_Balance', 'Is_Active',\n",
       "       'Is_Lead', 'GenderEncoded', 'AgeLog', 'RegionCodeLabelEncode',\n",
       "       'RegionCodeMeanEncode', 'OccupationLabelEncode', 'OccupationMeanEncode',\n",
       "       'ChannelCodeLabelEncode', 'ChannelCodeMeanEncode',\n",
       "       'CreditProductEncoded', 'BalanceLog', 'ActiveEncoded', 'Entrepreneur',\n",
       "       'AgeOverVintage', 'VintagePerc', 'ActiveAndCredit', 'ScaledAge',\n",
       "       'ScaledVintage', 'ScaledAgeLog', 'ScaledAvg_Account_Balance',\n",
       "       'ScaledBalanceLog', 'ScaledAgeOverVintage', 'ScaledVintagePerc'],\n",
       "      dtype='object')"
      ]
     },
     "execution_count": 24,
     "metadata": {},
     "output_type": "execute_result"
    }
   ],
   "source": [
    "df_scaled.columns"
   ]
  },
  {
   "cell_type": "code",
   "execution_count": 25,
   "metadata": {},
   "outputs": [
    {
     "data": {
      "text/plain": [
       "['GenderEncoded',\n",
       " 'RegionCodeMeanEncode',\n",
       " 'OccupationMeanEncode',\n",
       " 'ChannelCodeMeanEncode',\n",
       " 'CreditProductEncoded',\n",
       " 'ActiveEncoded',\n",
       " 'Entrepreneur',\n",
       " 'ActiveAndCredit',\n",
       " 'ScaledVintage',\n",
       " 'ScaledAgeLog',\n",
       " 'ScaledBalanceLog',\n",
       " 'ScaledAgeOverVintage',\n",
       " 'ScaledVintagePerc']"
      ]
     },
     "execution_count": 25,
     "metadata": {},
     "output_type": "execute_result"
    }
   ],
   "source": [
    "tarining_cols = [\n",
    "    #'ID', \n",
    "    #'Gender', \n",
    "    #'Age', \n",
    "    #'Region_Code', \n",
    "    #'Occupation', \n",
    "    #'Channel_Code',\n",
    "    #'Vintage', \n",
    "    #'Credit_Product', \n",
    "    #'Avg_Account_Balance', \n",
    "    #'Is_Active',\n",
    "    #'Is_Lead', \n",
    "    'GenderEncoded', \n",
    "    #'AgeLog', \n",
    "    #'RegionCodeLabelEncode',\n",
    "    'RegionCodeMeanEncode', \n",
    "    #'OccupationLabelEncode', \n",
    "    'OccupationMeanEncode',\n",
    "    #'ChannelCodeLabelEncode', \n",
    "    'ChannelCodeMeanEncode',\n",
    "    'CreditProductEncoded', \n",
    "    #'BalanceLog', \n",
    "    'ActiveEncoded', \n",
    "    'Entrepreneur',\n",
    "    #'AgeOverVintage', \n",
    "    #'VintagePerc', \n",
    "    'ActiveAndCredit', \n",
    "    #'ScaledAge',\n",
    "    'ScaledVintage', \n",
    "    'ScaledAgeLog', \n",
    "    #'ScaledAvg_Account_Balance',\n",
    "    'ScaledBalanceLog', \n",
    "    'ScaledAgeOverVintage', \n",
    "    'ScaledVintagePerc'\n",
    "    \n",
    "]\n",
    "tarining_cols"
   ]
  },
  {
   "cell_type": "code",
   "execution_count": 26,
   "metadata": {},
   "outputs": [
    {
     "data": {
      "text/plain": [
       "Index(['ID', 'Gender', 'Age', 'Region_Code', 'Occupation', 'Channel_Code',\n",
       "       'Vintage', 'Credit_Product', 'Avg_Account_Balance', 'Is_Active',\n",
       "       'Is_Lead'],\n",
       "      dtype='object')"
      ]
     },
     "execution_count": 26,
     "metadata": {},
     "output_type": "execute_result"
    }
   ],
   "source": [
    "df_train.columns"
   ]
  },
  {
   "cell_type": "code",
   "execution_count": 27,
   "metadata": {},
   "outputs": [],
   "source": [
    "df_train_treated = df_scaled[df_scaled['Is_Lead']!=-1].copy()\n",
    "df_test_treated = df_scaled[df_scaled['Is_Lead']==-1].copy()"
   ]
  },
  {
   "cell_type": "code",
   "execution_count": 28,
   "metadata": {},
   "outputs": [],
   "source": [
    "gluon_cols_train = [#'ID', \n",
    "              'GenderEncoded',\n",
    " 'RegionCodeMeanEncode',\n",
    " 'OccupationMeanEncode',\n",
    " 'ChannelCodeMeanEncode',\n",
    " 'CreditProductEncoded',\n",
    " 'ActiveEncoded',\n",
    " 'Entrepreneur',\n",
    " 'ActiveAndCredit',\n",
    " 'ScaledVintage',\n",
    " 'ScaledAgeLog',\n",
    " 'ScaledBalanceLog',\n",
    " 'ScaledAgeOverVintage',\n",
    " 'ScaledVintagePerc',\n",
    "       'Is_Lead']"
   ]
  },
  {
   "cell_type": "code",
   "execution_count": 29,
   "metadata": {},
   "outputs": [],
   "source": [
    "gluon_cols_test = [x for x in gluon_cols_train if x!='Is_Lead']"
   ]
  },
  {
   "cell_type": "code",
   "execution_count": 30,
   "metadata": {},
   "outputs": [],
   "source": [
    "save_dataset(df_train_treated[gluon_cols_train],name='gluon_train')\n",
    "save_dataset(df_test_treated[gluon_cols_test],name='gluon_test')"
   ]
  }
 ],
 "metadata": {
  "kernelspec": {
   "display_name": "Python 3",
   "language": "python",
   "name": "python3"
  },
  "language_info": {
   "codemirror_mode": {
    "name": "ipython",
    "version": 3
   },
   "file_extension": ".py",
   "mimetype": "text/x-python",
   "name": "python",
   "nbconvert_exporter": "python",
   "pygments_lexer": "ipython3",
   "version": "3.7.7"
  }
 },
 "nbformat": 4,
 "nbformat_minor": 4
}
